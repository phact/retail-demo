{
 "cells": [
  {
   "cell_type": "markdown",
   "metadata": {},
   "source": [
    "<img src=\"Solutions/images/brand.png\" width=\"1600\"/>"
   ]
  },
  {
   "cell_type": "markdown",
   "metadata": {
    "collapsed": true
   },
   "source": [
    "# Exercise 05 - Core Operations"
   ]
  },
  {
   "cell_type": "markdown",
   "metadata": {
    "collapsed": true
   },
   "source": [
    "## In this exercise, you will:\n",
    "\n",
    "* Create a new Solr core\n",
    "* Perform other operations on a core\n",
    "* Unload a Solr core"
   ]
  },
  {
   "cell_type": "markdown",
   "metadata": {
    "collapsed": true
   },
   "source": [
    "## Steps"
   ]
  },
  {
   "cell_type": "markdown",
   "metadata": {
    "collapsed": true
   },
   "source": [
    "### Create a new Solr core"
   ]
  },
  {
   "cell_type": "markdown",
   "metadata": {
    "collapsed": true
   },
   "source": [
    "**1** . Open a new Terminal window and navigate to the */root/data* directory. Once there, start **cqlsh**. Create a table **videos_by_actor** in the **killrvideo** keyspace with the following columns:"
   ]
  },
  {
   "cell_type": "markdown",
   "metadata": {},
   "source": [
    "<img src=\"Solutions/images/videos_by_actor_fields.jpg\" align=\"left\" width=\"800\"/>"
   ]
  },
  {
   "cell_type": "markdown",
   "metadata": {},
   "source": [
    "The primary key should be set to **(actor_name, character_name, video_id)**."
   ]
  },
  {
   "cell_type": "markdown",
   "metadata": {},
   "source": [
    "**2** . In *cqlsh*, use the `COPY` command to load the CSV file **videos_by_actor.csv** into the **killrvideo.videos_by_actor** table."
   ]
  },
  {
   "cell_type": "markdown",
   "metadata": {},
   "source": [
    "**3** . Open another Terminal window and create a new core for the **killrvideo.videos_by_actor** table. Use the appropriate option to automatically generate the required resource files."
   ]
  },
  {
   "cell_type": "markdown",
   "metadata": {},
   "source": [
    "You may get a warning message about the core being created with *reindex=false*. You can ignore this warning for now."
   ]
  },
  {
   "cell_type": "markdown",
   "metadata": {},
   "source": [
    "**4** . In the code box below, write a search query to find the value **2015** in the *release_year* field. "
   ]
  },
  {
   "cell_type": "code",
   "execution_count": null,
   "metadata": {
    "collapsed": true
   },
   "outputs": [],
   "source": []
  },
  {
   "cell_type": "markdown",
   "metadata": {},
   "source": [
    "Are there any results? Why or why not?"
   ]
  },
  {
   "cell_type": "raw",
   "metadata": {},
   "source": []
  },
  {
   "cell_type": "markdown",
   "metadata": {},
   "source": [
    "### Re-index data in a core"
   ]
  },
  {
   "cell_type": "markdown",
   "metadata": {},
   "source": [
    "**5** . In the Terminal window, reload the Solr core **killrvideo.videos_by_actor** with the parameter to re-index data."
   ]
  },
  {
   "cell_type": "markdown",
   "metadata": {},
   "source": [
    "Re-indexing data is a common task when creating or reloading a core, especially when you’ve made updates to the schema.\n",
    "\n",
    "Indexing should take some time to do. You can open the <a href=\"http://localhost:8983/solr\">Solr Admin UI</a> to see if re-indexing has completed. On the left navigation menu, click on **Core Admin** and select **killrvideo.videos_by_actor**. The attributes _numDocs_ and _maxDoc_ will be **0** while data is being re-indexed. Once indexing has completed, you will see that the core is current, and _indexing_ is set to **no**, and the _numDocs_ and _maxDoc_ is at **114961**. "
   ]
  },
  {
   "cell_type": "markdown",
   "metadata": {},
   "source": [
    "<img src=\"Solutions/images/solr_admin_reindex.jpg\" align=\"left\" width=\"800\"/>"
   ]
  },
  {
   "cell_type": "markdown",
   "metadata": {},
   "source": [
    "**6** . Go back to the previous query and try running it again."
   ]
  },
  {
   "cell_type": "markdown",
   "metadata": {},
   "source": [
    "**7** . Run one more search query looking for the phrase **Will Smith** in the *actor_name* column."
   ]
  },
  {
   "cell_type": "code",
   "execution_count": null,
   "metadata": {
    "collapsed": false
   },
   "outputs": [],
   "source": []
  },
  {
   "cell_type": "markdown",
   "metadata": {},
   "source": [
    "### Unload a Solr core"
   ]
  },
  {
   "cell_type": "markdown",
   "metadata": {},
   "source": [
    "**8** . Switch to the Terminal window and save to disk the two resource files, **schema.xml** and **solrconfig.xml**, from the **killrvideo.videos_by_actor** core."
   ]
  },
  {
   "cell_type": "markdown",
   "metadata": {},
   "source": [
    "**9** . Unload the **killrvideo.videos_by_actor** core, making sure to set the options to delete the resources and indexes."
   ]
  },
  {
   "cell_type": "markdown",
   "metadata": {},
   "source": [
    "**10** . Create the **killrvideo.videos_by_actor** core again using the resource files you saved in the previous steps."
   ]
  },
  {
   "cell_type": "markdown",
   "metadata": {},
   "source": [
    "Wait for the core to finish re-indexing again before moving on."
   ]
  },
  {
   "cell_type": "markdown",
   "metadata": {},
   "source": [
    "**11** . Run a search query to find movies with the *character_name* **James Bond**."
   ]
  },
  {
   "cell_type": "code",
   "execution_count": null,
   "metadata": {
    "collapsed": true
   },
   "outputs": [],
   "source": []
  }
 ],
 "metadata": {
  "kernelspec": {
   "display_name": "CQL",
   "language": "CQL",
   "name": "cql"
  },
  "language_info": {
   "codemirror_mode": "sql",
   "file_extension": ".cql",
   "mimetype": "text/x-cassandra",
   "name": "CQL"
  }
 },
 "nbformat": 4,
 "nbformat_minor": 0
}
