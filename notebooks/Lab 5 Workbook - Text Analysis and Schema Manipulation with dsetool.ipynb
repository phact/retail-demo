{
 "cells": [
  {
   "cell_type": "markdown",
   "metadata": {},
   "source": [
    "# Exercise 1: What's the difference between the whitespace and standard tokenizers? Which is more desirable?"
   ]
  },
  {
   "cell_type": "markdown",
   "metadata": {},
   "source": [
    "### Answer:"
   ]
  },
  {
   "cell_type": "markdown",
   "metadata": {},
   "source": [
    "They differ in how they split the analyzed text into tokens.\n",
    "\n",
    "The <b>StandardTokenizer</b> does this based on the following (taken from lucene javadoc):\n",
    "\n",
    "* Splits words at punctuation characters, removing punctuation. However, a dot that's not followed by whitespace is considered part of a token.\n",
    "* Splits words at hyphens, unless there's a number in the token, in which case the whole token is interpreted as a product number and is not split.\n",
    "* Recognizes email addresses and internet hostnames as one token.\n",
    "\n",
    "The <b>WhitespaceTokenizer</b> does this based on whitespace characters:\n",
    "\n",
    "A *WhitespaceTokenizer* is a tokenizer that divides text at whitespace. Adjacent sequences of non-Whitespace characters form tokens.\n",
    "\n",
    "You should pick the tokenizer that best fits your application. In any case you have to use the same analyzer/tokenizers for indexing and searching!"
   ]
  },
  {
   "cell_type": "markdown",
   "metadata": {},
   "source": [
    "# Exercise 2: Download the Solr schema for amazon.metadata using dsetool\n"
   ]
  },
  {
   "cell_type": "markdown",
   "metadata": {},
   "source": [
    "### Answer:"
   ]
  },
  {
   "cell_type": "raw",
   "metadata": {},
   "source": [
    "# dsetool get_core_schema amazon.metadata > /tmp/metadata_schema.xml"
   ]
  },
  {
   "cell_type": "markdown",
   "metadata": {},
   "source": [
    "# Exercise 3: Enable stemming using the \"PorterStemFilterFactory\" for text in amazon.metadata"
   ]
  },
  {
   "cell_type": "markdown",
   "metadata": {},
   "source": [
    "### Resources:\n",
    "* https://wiki.apache.org/solr/LanguageAnalysis#Stemming"
   ]
  },
  {
   "cell_type": "markdown",
   "metadata": {},
   "source": [
    "### Answer:"
   ]
  },
  {
   "cell_type": "markdown",
   "metadata": {},
   "source": [
    "1. Edit metadata_schema.xml under TextField and add a filter called PorterStemFilterFactory.\n",
    "2. Re-upload the schema to the core and reindex.\n",
    "3. Run queries to see the difference made by stemming."
   ]
  },
  {
   "cell_type": "code",
   "execution_count": null,
   "metadata": {
    "collapsed": true
   },
   "outputs": [],
   "source": []
  }
 ],
 "metadata": {
  "kernelspec": {
   "display_name": "CQL",
   "language": "CQL",
   "name": "cql"
  },
  "language_info": {
   "codemirror_mode": "sql",
   "file_extension": ".cql",
   "mimetype": "text/x-cassandra",
   "name": "CQL"
  }
 },
 "nbformat": 4,
 "nbformat_minor": 1
}
