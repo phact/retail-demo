{
 "cells": [
  {
   "cell_type": "markdown",
   "metadata": {},
   "source": [
    "# Exercise 1: Solr query on User Defined Type (UDT)"
   ]
  },
  {
   "cell_type": "markdown",
   "metadata": {},
   "source": [
    "### Run the following CQL commands to add a UDT column and insert some data:\n",
    "\n",
    "```\n",
    "CREATE TYPE amazon.category_rank (\n",
    "    category text,\n",
    "    rank int\n",
    ");\n",
    "\n",
    "ALTER TABLE amazon.metadata ADD ranks set<frozen<category_rank>>;\n",
    "\n",
    "UPDATE amazon.metadata SET ranks = ranks + { { category:'Movies', rank:1 } } WHERE asin='0007321198';\n",
    "```\n",
    "\n",
    "### Write a CQL solr_query to find the document where ranks.category = 'Movies' and ranks.rank = 1."
   ]
  },
  {
   "cell_type": "code",
   "execution_count": null,
   "metadata": {},
   "outputs": [],
   "source": [
    "CREATE TYPE amazon.category_rank (\n",
    "    category text,\n",
    "    rank int\n",
    ");\n",
    "\n",
    "ALTER TABLE amazon.metadata ADD ranks set<frozen<category_rank>>;\n",
    "\n",
    "UPDATE amazon.metadata SET ranks = ranks + { { category:'Movies', rank:1 } } WHERE asin='0007321198';"
   ]
  },
  {
   "cell_type": "markdown",
   "metadata": {},
   "source": [
    "### Answer:"
   ]
  },
  {
   "cell_type": "markdown",
   "metadata": {},
   "source": [
    "Many ways to write this query, for example:"
   ]
  },
  {
   "cell_type": "code",
   "execution_count": null,
   "metadata": {},
   "outputs": [],
   "source": [
    "select * from amazon.metadata where solr_query = '{\"q\":\"*:*\", \"fq\":\"{!tuple}ranks.rank:1\", \"fq\":\"{!tuple}ranks.category:\\\"Movies\\\"\"}';"
   ]
  },
  {
   "cell_type": "markdown",
   "metadata": {},
   "source": [
    "### What's the reason if you see the following error:\n",
    "```\n",
    "ServerError: <ErrorMessage code=0000 [Server error] message=\"undefined field ranks.rank\">\n",
    "```"
   ]
  },
  {
   "cell_type": "markdown",
   "metadata": {},
   "source": [
    "### Answer:"
   ]
  },
  {
   "cell_type": "markdown",
   "metadata": {},
   "source": [
    "Because CQL table schema was changed by \"ALTER TABLE\", a reindex is needed to get the solr core updated."
   ]
  },
  {
   "cell_type": "raw",
   "metadata": {},
   "source": [
    "# dsetool unload_core amazon.metadata\n",
    "# dsetool create_core amazon.metadata generateResources=true reindex=true deleteAll=true distributed=true"
   ]
  },
  {
   "cell_type": "markdown",
   "metadata": {},
   "source": [
    "### Take a look at the new solr core schema for amazon.metadata, and see how UDT/tuple maps to Solr TupleField. Now rerun the previous query should succeed."
   ]
  },
  {
   "cell_type": "markdown",
   "metadata": {},
   "source": [
    "### Any other way of writing this solr query on UDT?"
   ]
  },
  {
   "cell_type": "markdown",
   "metadata": {},
   "source": [
    "### Answer:"
   ]
  },
  {
   "cell_type": "code",
   "execution_count": null,
   "metadata": {},
   "outputs": [],
   "source": [
    "select * from amazon.metadata where solr_query = '{!tuple}ranks.category:\"Movies\" AND ranks.rank:1';"
   ]
  },
  {
   "cell_type": "markdown",
   "metadata": {},
   "source": [
    "### Why the following query doesn't work?"
   ]
  },
  {
   "cell_type": "code",
   "execution_count": null,
   "metadata": {},
   "outputs": [],
   "source": [
    "select * from amazon.metadata where solr_query = '{!tuple}ranks.category:\"Movies\" AND {!tuple}ranks.rank:1';"
   ]
  },
  {
   "cell_type": "markdown",
   "metadata": {},
   "source": [
    "### Answer:"
   ]
  },
  {
   "cell_type": "markdown",
   "metadata": {},
   "source": [
    "According to [UDT Query Examples](http://docs.datastax.com/en/datastax_enterprise/4.8/datastax_enterprise/srch/srchTupleUDTqueries.html), You can query across UDTs or within a UDT:\n",
    "\n",
    "-Across UDTs syntax: ({!tuple}cond1 AND {!tuple}condN...) *notice the parenthesis*\n",
    "\n",
    "-Within a UDT: {!tuple}cond1 AND condN...\n",
    "\n",
    "So the correct syntax should be either:\n",
    "```\n",
    "select * from amazon.metadata where solr_query = '{!tuple}ranks.category:\"Movies\" AND ranks.rank:1';\n",
    "```\n",
    "or\n",
    "```\n",
    "select * from amazon.metadata where solr_query = '({!tuple}ranks.category:\"Movies\" AND {!tuple}ranks.rank:1)';\n",
    "```"
   ]
  },
  {
   "cell_type": "code",
   "execution_count": null,
   "metadata": {
    "collapsed": true
   },
   "outputs": [],
   "source": []
  }
 ],
 "metadata": {
  "kernelspec": {
   "display_name": "CQL",
   "language": "CQL",
   "name": "cql"
  },
  "language_info": {
   "codemirror_mode": "sql",
   "file_extension": ".cql",
   "mimetype": "text/x-cassandra",
   "name": "CQL"
  }
 },
 "nbformat": 4,
 "nbformat_minor": 1
}
