{
 "cells": [
  {
   "cell_type": "markdown",
   "metadata": {
    "deletable": true,
    "editable": true
   },
   "source": [
    "# Exercise 1: Cluster Access\n",
    "\n",
    "For this workshop, every student will be allocated with a dedicated 3-node cluster running DSE-5.0 in SearchAnalytics mode. The nodes are conveniently named node0, node1 and node2. When you have SSH terminal session on any one of the three nodes, you can execute `\"ssh node0\"` or `\"ssh node1\"` or `\"ssh node2\"` to access to any other node without password.\n",
    "\n",
    "Each student should have received a notebook URL and a SSH private key in their email. Use this URL in your browser to bring up ```Lab 1 Workbook```. The IP address in the URL is the public IP address of the first node in your 3-node cluster (also called node0), and you should create a SSH terminal connection to node0 using ```root``` user and the private key. On each node's 8983 port, you can also access Solr Admin web UI using a URL in the following format:\n",
    "\n",
    "`http://<node0_public_IP_address>:8983/solr`\n",
    "\n",
    "The SSH terminal, Solr Admin UI and the browser notebook session should be everything you need for this workshop."
   ]
  },
  {
   "cell_type": "markdown",
   "metadata": {
    "deletable": true,
    "editable": true
   },
   "source": [
    "# Exercise 2: Validate and Explore Pre-loaded Data\n",
    "\n",
    "This workshop uses a dataset derived from a small subset of Amazon Product Data (http://jmcauley.ucsd.edu/data/amazon/) metadata and product ranking, as well as simulated click event data. The two data files can be found from [here](https://github.com/weideng1/retail-demo/tree/master/data). Along with the cluster provisioning, the sample data files were preloaded into the DSE cluster, under a keyspace called `\"amazon\"`.\n",
    "\n",
    "Use the following CQL commands to examine the table schema of the three tables (metadata, rank, clicks):\n",
    "\n",
    "#### Notebook Hint: Arrow down to the next cell, and press ctrl+enter to execute the CQL command. If you want to clear the output after running it, you can use the drop-down menu \"Cell\" -> \"Current Outputs\" -> \"Clear\"."
   ]
  },
  {
   "cell_type": "code",
   "execution_count": null,
   "metadata": {
    "collapsed": false,
    "deletable": true,
    "editable": true,
    "scrolled": true
   },
   "outputs": [],
   "source": [
    "desc table amazon.metadata;\n",
    "desc table amazon.rank;\n",
    "desc table amazon.clicks;"
   ]
  },
  {
   "cell_type": "markdown",
   "metadata": {
    "deletable": true,
    "editable": true
   },
   "source": [
    "Run a select CQL query to sample a few rows of amazon.metadata table:"
   ]
  },
  {
   "cell_type": "code",
   "execution_count": null,
   "metadata": {
    "collapsed": false,
    "deletable": true,
    "editable": true
   },
   "outputs": [],
   "source": [
    "select * from amazon.metadata limit 5;"
   ]
  },
  {
   "cell_type": "markdown",
   "metadata": {
    "deletable": true,
    "editable": true
   },
   "source": [
    "# Exercise 3: Design CQL queries without Solr indexes\n",
    "* Fetch a record by primary key in metadata table using CQL\n",
    "* Design a CQL query table schema for finding items by category\n",
    "* Design a CQL query table schema that allows you to find all books that are the superset of \"Noir\", and \"Zombies\"."
   ]
  },
  {
   "cell_type": "markdown",
   "metadata": {
    "deletable": true,
    "editable": true
   },
   "source": [
    "# End of Lab 1"
   ]
  },
  {
   "cell_type": "markdown",
   "metadata": {
    "collapsed": true,
    "deletable": true,
    "editable": true
   },
   "source": [
    "## Remember to use File -> Close and Halt so this notebook no longer hogs resources"
   ]
  },
  {
   "cell_type": "code",
   "execution_count": null,
   "metadata": {
    "collapsed": true,
    "deletable": true,
    "editable": true
   },
   "outputs": [],
   "source": []
  }
 ],
 "metadata": {
  "kernelspec": {
   "display_name": "CQL",
   "language": "CQL",
   "name": "cql"
  },
  "language_info": {
   "codemirror_mode": "sql",
   "file_extension": ".cql",
   "mimetype": "text/x-cassandra",
   "name": "CQL"
  }
 },
 "nbformat": 4,
 "nbformat_minor": 0
}
