{
 "cells": [
  {
   "cell_type": "markdown",
   "metadata": {},
   "source": [
    "<img src=\"Solutions/images/brand.png\" width=\"1600\"/>"
   ]
  },
  {
   "cell_type": "markdown",
   "metadata": {
    "collapsed": true
   },
   "source": [
    "# Exercise 07 - Text Analysis"
   ]
  },
  {
   "cell_type": "markdown",
   "metadata": {
    "collapsed": true
   },
   "source": [
    "## In this exercise, you will:\n",
    "\n",
    "* Create an analyzer for a TextField field\n",
    "* Use the Analysis screen in the Solr Admin to evaluate a query\n",
    "* Customize the analysis chain to support various queries"
   ]
  },
  {
   "cell_type": "markdown",
   "metadata": {
    "collapsed": true
   },
   "source": [
    "## Steps"
   ]
  },
  {
   "cell_type": "markdown",
   "metadata": {
    "collapsed": true
   },
   "source": [
    "### Create an analyzer for a TextField field"
   ]
  },
  {
   "cell_type": "markdown",
   "metadata": {},
   "source": [
    "For this exercise, you’ll be using the **killrvideo.videos_by_year_title** table, which has the following fields:"
   ]
  },
  {
   "cell_type": "markdown",
   "metadata": {},
   "source": [
    "<img src=\"Solutions/images/videos_year_title_fields.jpg\" align=\"left\" width=\"800\"/>"
   ]
  },
  {
   "cell_type": "markdown",
   "metadata": {},
   "source": [
    "The primary key will be **(release_year, title, video_id)**."
   ]
  },
  {
   "cell_type": "markdown",
   "metadata": {
    "collapsed": true
   },
   "source": [
    "**1** . In a Terminal window, start **cqlsh** and create the **videos_by_year_title** table in the **killrvideo** keyspace."
   ]
  },
  {
   "cell_type": "markdown",
   "metadata": {},
   "source": [
    "**2** . In *cqlsh*, load the data for the **killrvideo.videos_by_year_title** table from */root/data/videos_by_year_title.csv*."
   ]
  },
  {
   "cell_type": "markdown",
   "metadata": {},
   "source": [
    "**3** . Open the file **/root/data/videos_by_year_title.schema.xml** in a text editor.\n",
    "\n",
    "Take a look at the schema for the **description** field. It’ll be difficult to search in this field if you have to search the entire description. Let’s go and change that."
   ]
  },
  {
   "cell_type": "markdown",
   "metadata": {},
   "source": [
    "**4** . Create a _TextField_ field type to use for the **description** field and specify an analyzer using the **WhitespaceAnalyzer** class."
   ]
  },
  {
   "cell_type": "markdown",
   "metadata": {},
   "source": [
    "**5** . Save the file. In a Terminal window, create the Solr core for the **killrvideo.videos_by_year_title** table. Use your edited **schema.xml** file and **/root/data/videos_by_year_title.solrconfig.xml** as the *solrconfig.xml*."
   ]
  },
  {
   "cell_type": "markdown",
   "metadata": {},
   "source": [
    "**6** . Run a search query to find movies with the term **inflatable** in the *description* field."
   ]
  },
  {
   "cell_type": "code",
   "execution_count": null,
   "metadata": {
    "collapsed": false
   },
   "outputs": [],
   "source": []
  },
  {
   "cell_type": "markdown",
   "metadata": {},
   "source": [
    "Take a look at description for the resulting movie. Let’s see if we can search for other terms that finds this movie:"
   ]
  },
  {
   "cell_type": "markdown",
   "metadata": {},
   "source": [
    "* Search the description for the term **hiro**"
   ]
  },
  {
   "cell_type": "code",
   "execution_count": null,
   "metadata": {
    "collapsed": false
   },
   "outputs": [],
   "source": []
  },
  {
   "cell_type": "markdown",
   "metadata": {},
   "source": [
    "* Search the description for the term **Baymax**"
   ]
  },
  {
   "cell_type": "code",
   "execution_count": null,
   "metadata": {
    "collapsed": false
   },
   "outputs": [],
   "source": []
  },
  {
   "cell_type": "markdown",
   "metadata": {},
   "source": [
    "Why do these terms fail to find the movie?"
   ]
  },
  {
   "cell_type": "raw",
   "metadata": {},
   "source": []
  },
  {
   "cell_type": "markdown",
   "metadata": {},
   "source": [
    "### Use the Analysis screen in the Solr Admin to evaluate a query"
   ]
  },
  {
   "cell_type": "markdown",
   "metadata": {},
   "source": [
    "**7** . Open a web browser and go to http://localhost:8983/solr to open the Solr Admin. Select the core **killrvideo.videos_by_year_title**, and then click on the **Analysis** icon."
   ]
  },
  {
   "cell_type": "markdown",
   "metadata": {},
   "source": [
    "<img src=\"Solutions/images/solr-admin-1.jpg\" align=\"left\"/>\n",
    "<img src=\"Solutions/images/solr-admin-2.jpg\" align=\"center\"/>"
   ]
  },
  {
   "cell_type": "markdown",
   "metadata": {},
   "source": [
    "**8** . On the Analysis screen, fill out the following input:\n",
    "\n",
    "* In the **Field Value (Index)** box, input the text:"
   ]
  },
  {
   "cell_type": "raw",
   "metadata": {},
   "source": [
    "The special bond that develops between plus-sized inflatable robot Baymax, and prodigy Hiro Hamada, who team up with a group of friends to form a band of high-tech heroes."
   ]
  },
  {
   "cell_type": "markdown",
   "metadata": {},
   "source": [
    "* In the **Field Value (Query)** box, input **Baymax**\n",
    "* Change the **Analyse Fieldname / FieldType** selection to **TextField** (or the fieldType you defined in Step 4)\n",
    "* Uncheck the **Verbose Output** box\n",
    "* Click **Analyse Values**\n",
    "\n",
    "This will show the terms that would be created by the analysis chain during indexing, as well as the term created from the query."
   ]
  },
  {
   "cell_type": "markdown",
   "metadata": {},
   "source": [
    "**9** . Edit the field value for the query so that it matches the corresponding term in the index. Run that value in the Analysis screen to confirm."
   ]
  },
  {
   "cell_type": "markdown",
   "metadata": {},
   "source": [
    "### Customize the analysis chain to support various queries"
   ]
  },
  {
   "cell_type": "markdown",
   "metadata": {},
   "source": [
    "**10** . Edit the _schema.xml_ so that the analysis chain can support the following queries and results. \n",
    "\n",
    "Make sure to reload the core with the new _schema.xml_ to test your results. A **stopwords.txt** and **synonyms.txt** file can be found in */root/data/* if needed. Don't forget to upload resource files if used."
   ]
  },
  {
   "cell_type": "code",
   "execution_count": null,
   "metadata": {
    "collapsed": false
   },
   "outputs": [],
   "source": [
    "SELECT title, release_year, description FROM killrvideo.videos_by_year_title\n",
    "WHERE solr_query = 'description:\"ninja turtles\"';"
   ]
  },
  {
   "cell_type": "raw",
   "metadata": {},
   "source": [
    " title                        | release_year | description\n",
    "------------------------------+--------------+-------------------------------------------------------------------------\n",
    " Teenage Mutant Ninja Turtles |         2014 | The city needs heroes. Darkness has settled over New York City as Shredder and his evil Foot Clan have an iron grip on everything from the police to the politicians. The future is grim until four unlikely outcast brothers rise from the sewers and discover their destiny as Teenage Mutant Ninja Turtles. The Turtles must work with fearless reporter April and her wise-cracking cameraman Vern Fenwick to save the city and unravel Shredder's diabolical plan.\n",
    "\n",
    "(1 rows)"
   ]
  },
  {
   "cell_type": "code",
   "execution_count": null,
   "metadata": {
    "collapsed": false
   },
   "outputs": [],
   "source": [
    "SELECT title, release_year, description FROM killrvideo.videos_by_year_title\n",
    "WHERE solr_query = 'description:(force AND promotion)';"
   ]
  },
  {
   "cell_type": "raw",
   "metadata": {},
   "source": [
    " title                        | release_year | description\n",
    "------------------------------+--------------+------------------------------------------------------------------------\n",
    "           Jetsons: The Movie |         1990 | George Jetson is forced to uproot his family when Mr. Spacely promotes him to take charge of a new factory on a distant planet.\n",
    "                                            \n",
    " Smokey and the Bandit Part 3 |         1983 | The Enos duo convince Cletus, aka The Bandit, to come out of hiding and help them promote their new restaurant. With a little coaxing, he agrees, producing an almost-creaky Trigger as his mode of transport. But his nemesis, Sheriff Buford T. Justice, is on the hunt, forcing Cletus and Trigger to hit the road. Can they steer clear of the vengeful sheriff?\n",
    "\n",
    "(2 rows)"
   ]
  },
  {
   "cell_type": "code",
   "execution_count": null,
   "metadata": {
    "collapsed": false
   },
   "outputs": [],
   "source": [
    "SELECT title, release_year, description FROM killrvideo.videos_by_year_title\n",
    "WHERE solr_query = 'description:(hack OR any AND computer)';"
   ]
  },
  {
   "cell_type": "raw",
   "metadata": {},
   "source": [
    " title               | release_year | description\n",
    "---------------------+--------------+-----------------------------------------------------------------------------------\n",
    "            WarGames |         1983 | High School student David Lightman (Matthew Broderick) has a talent for hacking. But while trying to hack into a computer system to play unreleased video games, he unwittingly taps into the Defense Department's war computer and initiates a confrontation of global proportions! Together with his girlfriend (Ally Sheedy) and a wizardly computer genius (John Wood), David must race against time to outwit his opponent...and prevent a nuclear Armageddon.\n",
    "            \n",
    " Big Momma's House 2 |         2006 | FBI agent Malcolm Turner goes back undercover as Big Momma, a slick-talking, slam-dunking Southern granny with attitude to spare! Now this granny must play nanny to three dysfunctional upper class kids in order to spy on their computer hacked dad.\n",
    " \n",
    "           Swordfish |         2001 | Rogue agent Gabriel Shear is determined to get his mitts on $9 billion stashed in a secret Drug Enforcement Administration account. He wants the cash to fight terrorism, but lacks the computer skills necessary to hack into the government mainframe. Enter Stanley Jobson, a n'er-do-well encryption expert who can log into anything.\n",
    "           \n",
    "          The Signal |         2014 | Three college students on a road trip across the Southwest experience a detour – the tracking of a computer genius who has already hacked into MIT and exposed security faults. When the trio find themselves drawn to an eerily isolated area, suddenly everything goes dark. When one of the students regains consciousness, he finds himself in a waking nightmare.\n",
    "\n",
    "(4 rows)"
   ]
  }
 ],
 "metadata": {
  "kernelspec": {
   "display_name": "CQL",
   "language": "CQL",
   "name": "cql"
  },
  "language_info": {
   "codemirror_mode": "sql",
   "file_extension": ".cql",
   "mimetype": "text/x-cassandra",
   "name": "CQL"
  }
 },
 "nbformat": 4,
 "nbformat_minor": 0
}
