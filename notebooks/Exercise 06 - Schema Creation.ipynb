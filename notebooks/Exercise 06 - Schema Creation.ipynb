{
 "cells": [
  {
   "cell_type": "markdown",
   "metadata": {},
   "source": [
    "<img src=\"Solutions/images/brand.png\" width=\"1600\"/>"
   ]
  },
  {
   "cell_type": "markdown",
   "metadata": {
    "collapsed": true
   },
   "source": [
    "# Exercise 06 - Schema Creation"
   ]
  },
  {
   "cell_type": "markdown",
   "metadata": {
    "collapsed": true
   },
   "source": [
    "## In this exercise, you will:\n",
    "\n",
    "* Change the field types in a Solr schema\n",
    "* Create a multi-valued field"
   ]
  },
  {
   "cell_type": "markdown",
   "metadata": {
    "collapsed": true
   },
   "source": [
    "## Steps"
   ]
  },
  {
   "cell_type": "markdown",
   "metadata": {
    "collapsed": true
   },
   "source": [
    "### Change the field types in a Solr schema"
   ]
  },
  {
   "cell_type": "markdown",
   "metadata": {},
   "source": [
    "For this exercise, you’ll be using the **killrvideo.videos_by_actor** table, which has the following fields:"
   ]
  },
  {
   "cell_type": "markdown",
   "metadata": {},
   "source": [
    "<img src=\"Solutions/images/videos_by_actor_fields.jpg\" align=\"left\" width=\"800\"/>"
   ]
  },
  {
   "cell_type": "markdown",
   "metadata": {
    "collapsed": true
   },
   "source": [
    "**1** . If you have already created the **killvideo.videos_by_actor** table and core in a previous exercise, proceed to the next step. Otherwise, execute the following commands:"
   ]
  },
  {
   "cell_type": "markdown",
   "metadata": {},
   "source": [
    "* In a Terminal window, run **cqlsh**.\n",
    "\n",
    "* In _cqlsh_, create the table with the command: "
   ]
  },
  {
   "cell_type": "raw",
   "metadata": {},
   "source": [
    "CREATE TABLE killrvideo.videos_by_actor (\n",
    "  actor_name TEXT, \n",
    "  character_name TEXT, \n",
    "  video_id TIMEUUID, \n",
    "  release_year INT, \n",
    "  title TEXT, \n",
    "  PRIMARY KEY (actor_name, character_name, video_id)\n",
    ");"
   ]
  },
  {
   "cell_type": "markdown",
   "metadata": {},
   "source": [
    "* In _cqlsh_, load data with the command:"
   ]
  },
  {
   "cell_type": "raw",
   "metadata": {},
   "source": [
    "COPY killrvideo.videos_by_actor FROM '/root/data/videos_by_actor.csv"
   ]
  },
  {
   "cell_type": "markdown",
   "metadata": {},
   "source": [
    "* Exit from _cqlsh_ and on the command-line, create the core:"
   ]
  },
  {
   "cell_type": "raw",
   "metadata": {},
   "source": [
    "dsetool create_core killrvideo.videos_by_actor generateResources=true reindex=true"
   ]
  },
  {
   "cell_type": "markdown",
   "metadata": {},
   "source": [
    "**2** . Run the following queries:\n",
    "\n",
    "* Search for movies with an actor whose name matches the phrase **Tom Hanks**."
   ]
  },
  {
   "cell_type": "code",
   "execution_count": null,
   "metadata": {
    "collapsed": true
   },
   "outputs": [],
   "source": []
  },
  {
   "cell_type": "markdown",
   "metadata": {},
   "source": [
    "* Search for movies with a character whose name matches the phrase **Han Solo**."
   ]
  },
  {
   "cell_type": "code",
   "execution_count": null,
   "metadata": {
    "collapsed": true
   },
   "outputs": [],
   "source": []
  },
  {
   "cell_type": "markdown",
   "metadata": {},
   "source": [
    "**3** . Run the two search queries again, this time using only the first name."
   ]
  },
  {
   "cell_type": "code",
   "execution_count": null,
   "metadata": {
    "collapsed": true
   },
   "outputs": [],
   "source": []
  },
  {
   "cell_type": "code",
   "execution_count": null,
   "metadata": {
    "collapsed": true
   },
   "outputs": [],
   "source": []
  },
  {
   "cell_type": "markdown",
   "metadata": {},
   "source": [
    "Given the results from the previous step, were the results for these two queries what you expected?"
   ]
  },
  {
   "cell_type": "raw",
   "metadata": {},
   "source": []
  },
  {
   "cell_type": "markdown",
   "metadata": {},
   "source": [
    "**4** . In a Terminal window, save the _schema.xml_ for **killrvideo.videos_by_actor** to a file on disk."
   ]
  },
  {
   "cell_type": "markdown",
   "metadata": {},
   "source": [
    "**5** . Open the *schema.xml* with a text editor and review the contents.\n",
    "\n",
    "You’ll see that the *actor_name* field and *character_name* field are declared with a **StrField** field type. This means that search terms for either of these two fields must match the entire field value."
   ]
  },
  {
   "cell_type": "markdown",
   "metadata": {},
   "source": [
    "**6** . Create two new fields, **actor_name_search** and **character_name_search** with the field type **TextField**. Add *copyField* lines to copy the data from **actor_name** to **actor_name_search** and **character_name** to **character_name_search**."
   ]
  },
  {
   "cell_type": "markdown",
   "metadata": {},
   "source": [
    "**7** . Save the *schema.xml* file and go back to the Terminal. Reload the **killrvideo.videos_by_actor** core with the edited *schema.xml* file. Make sure to re-index the data."
   ]
  },
  {
   "cell_type": "markdown",
   "metadata": {},
   "source": [
    "**8** . Create and run a search query to look for the term **Tom** and the new *actor_name_search* field, and **Han** in the new *character_name_search* field."
   ]
  },
  {
   "cell_type": "code",
   "execution_count": null,
   "metadata": {
    "collapsed": false
   },
   "outputs": [],
   "source": []
  },
  {
   "cell_type": "code",
   "execution_count": null,
   "metadata": {
    "collapsed": false
   },
   "outputs": [],
   "source": []
  },
  {
   "cell_type": "markdown",
   "metadata": {},
   "source": [
    "Does the schema change now return the expected results?"
   ]
  },
  {
   "cell_type": "raw",
   "metadata": {},
   "source": []
  },
  {
   "cell_type": "markdown",
   "metadata": {},
   "source": [
    "### Create a multi-valued field"
   ]
  },
  {
   "cell_type": "markdown",
   "metadata": {},
   "source": [
    "Let’s also take a look at expanding the schema for **killrvideo.videos_by_actor**. We’ll want to make a multi-valued field called **combo** that essentially will search the fields *actor_name*, *character_name*, and *title*."
   ]
  },
  {
   "cell_type": "markdown",
   "metadata": {},
   "source": [
    "**9** . Open the _schema.xml_ file again in a text editor, and make the necessary changes. Save the file after you’re done."
   ]
  },
  {
   "cell_type": "markdown",
   "metadata": {},
   "source": [
    "**10** . In a Terminal window, reload and re-index the core again using the modified **schema.xml** file."
   ]
  },
  {
   "cell_type": "markdown",
   "metadata": {},
   "source": [
    "**11** . Try running the following search queries. Note the fields that match the term used in the query.\n",
    "\n",
    "* Do a search on the **combo** field with the term **Bobby**"
   ]
  },
  {
   "cell_type": "code",
   "execution_count": null,
   "metadata": {
    "collapsed": true
   },
   "outputs": [],
   "source": []
  },
  {
   "cell_type": "markdown",
   "metadata": {},
   "source": [
    "* Do a search on the **combo** field with the phrase **John Smith**"
   ]
  },
  {
   "cell_type": "code",
   "execution_count": null,
   "metadata": {
    "collapsed": true
   },
   "outputs": [],
   "source": []
  },
  {
   "cell_type": "markdown",
   "metadata": {},
   "source": [
    "For these two queries, do you see documents where the term matched one of the three fields copied into the **combo** field?"
   ]
  },
  {
   "cell_type": "raw",
   "metadata": {},
   "source": []
  },
  {
   "cell_type": "markdown",
   "metadata": {},
   "source": [
    "* Do a search on the **combo** field with the phrase **Stallone John**"
   ]
  },
  {
   "cell_type": "code",
   "execution_count": null,
   "metadata": {
    "collapsed": true
   },
   "outputs": [],
   "source": []
  },
  {
   "cell_type": "markdown",
   "metadata": {},
   "source": [
    "* Do a search on the **combo** field with the phrase **Terminator Arnold**"
   ]
  },
  {
   "cell_type": "code",
   "execution_count": null,
   "metadata": {
    "collapsed": true
   },
   "outputs": [],
   "source": []
  },
  {
   "cell_type": "markdown",
   "metadata": {},
   "source": [
    "Although results may be returned with these two queries, they are not a match for any one particular field. Which two fields did the phrase end up matching?"
   ]
  },
  {
   "cell_type": "raw",
   "metadata": {},
   "source": []
  },
  {
   "cell_type": "markdown",
   "metadata": {},
   "source": [
    "**12** . Edit the schema.xml file again, but this time incorporate the **positionalIncrementGap** attribute into the field type used for the *actor_name*, *character_name*, and *title* fields. Afterwards, reload the core and run the last two search queries from the previous step."
   ]
  },
  {
   "cell_type": "markdown",
   "metadata": {},
   "source": [
    "If done correctly, those two search queries should not return any results."
   ]
  }
 ],
 "metadata": {
  "kernelspec": {
   "display_name": "CQL",
   "language": "CQL",
   "name": "cql"
  },
  "language_info": {
   "codemirror_mode": "sql",
   "file_extension": ".cql",
   "mimetype": "text/x-cassandra",
   "name": "CQL"
  }
 },
 "nbformat": 4,
 "nbformat_minor": 0
}
