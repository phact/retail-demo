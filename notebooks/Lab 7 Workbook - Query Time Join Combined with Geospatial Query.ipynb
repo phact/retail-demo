{
 "cells": [
  {
   "cell_type": "markdown",
   "metadata": {},
   "source": [
    "# Exercise 1: Find customers events within the US, join to products."
   ]
  },
  {
   "cell_type": "markdown",
   "metadata": {},
   "source": [
    "### Resources:\n",
    "* https://docs.datastax.com/en/datastax_enterprise/4.8/datastax_enterprise/srch/srchQueryJoin.html"
   ]
  },
  {
   "cell_type": "markdown",
   "metadata": {},
   "source": [
    "### Answer:"
   ]
  },
  {
   "cell_type": "code",
   "execution_count": null,
   "metadata": {},
   "outputs": [],
   "source": [
    "SELECT * FROM amazon.metadata WHERE solr_query='{\"q\":\"{!join fromIndex=amazon.clicks}country:US\"}' limit 100;"
   ]
  },
  {
   "cell_type": "markdown",
   "metadata": {},
   "source": [
    "# Exercise 2: Find customers events within a 5km radius of \"37.7484,-122.4156\", join to products, facet categories.\n"
   ]
  },
  {
   "cell_type": "markdown",
   "metadata": {},
   "source": [
    "### Answer:"
   ]
  },
  {
   "cell_type": "code",
   "execution_count": null,
   "metadata": {},
   "outputs": [],
   "source": [
    "SELECT * FROM amazon.metadata WHERE solr_query='{\"q\":\"*:*\", \"fq\":\"{!join fromIndex=amazon.clicks}{!geofilt pt=\\\"37.7484,-122.4156\\\" sfield=location d=5}\", \"facet\":{\"field\":\"categories\"}}';"
   ]
  },
  {
   "cell_type": "markdown",
   "metadata": {},
   "source": [
    "# Exercise 3: Find the most popular item in category books within a 5km radius of \"37.7484,-122.4156\"."
   ]
  },
  {
   "cell_type": "markdown",
   "metadata": {},
   "source": [
    "### Answer:"
   ]
  },
  {
   "cell_type": "code",
   "execution_count": null,
   "metadata": {},
   "outputs": [],
   "source": [
    "SELECT * FROM amazon.rank WHERE solr_query='{\"q\":\"{!join fromIndex=amazon.metadata}categories:books AND _query_:{!join fromIndex=amazon.clicks}{!geofilt pt=\\\"37.7484,-122.4156\\\" sfield=location d=5}\"}';"
   ]
  },
  {
   "cell_type": "code",
   "execution_count": null,
   "metadata": {
    "collapsed": true
   },
   "outputs": [],
   "source": []
  }
 ],
 "metadata": {
  "kernelspec": {
   "display_name": "CQL",
   "language": "CQL",
   "name": "cql"
  },
  "language_info": {
   "codemirror_mode": "sql",
   "file_extension": ".cql",
   "mimetype": "text/x-cassandra",
   "name": "CQL"
  }
 },
 "nbformat": 4,
 "nbformat_minor": 1
}
