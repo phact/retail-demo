{
 "cells": [
  {
   "cell_type": "markdown",
   "metadata": {
    "deletable": true,
    "editable": true
   },
   "source": [
    "# Exercise 1: Using CQL search for items with ”girls\" in the title."
   ]
  },
  {
   "cell_type": "markdown",
   "metadata": {
    "deletable": true,
    "editable": true
   },
   "source": [
    "### Resources:\n",
    "* [CQL solr query overview](https://docs.datastax.com/en/datastax_enterprise/4.8/datastax_enterprise/srch/srchCql.html)\n",
    "* [CQL solr_query JSON spec](https://docs.datastax.com/en/datastax_enterprise/4.8/datastax_enterprise/srch/srchJSON.html)\n",
    "* [Solr HTTP RESTful API](https://docs.datastax.com/en/datastax_enterprise/4.8/datastax_enterprise/srch/srchHttp.html)"
   ]
  },
  {
   "cell_type": "markdown",
   "metadata": {
    "deletable": true,
    "editable": true
   },
   "source": [
    "### Answer:"
   ]
  },
  {
   "cell_type": "code",
   "execution_count": null,
   "metadata": {
    "collapsed": false,
    "deletable": true,
    "editable": true
   },
   "outputs": [],
   "source": [
    "select * from amazon.metadata where solr_query = '{\"q\":\"title:girls\"}';"
   ]
  },
  {
   "cell_type": "markdown",
   "metadata": {
    "deletable": true,
    "editable": true
   },
   "source": [
    "### Follow-up questions:\n",
    "* Are there other ways to write this query? Give some exmple.\n",
    "\n",
    "    (HTTP RESTful API, CQL solr_query JSON format, CQL solr_query non-JSON format)"
   ]
  },
  {
   "cell_type": "markdown",
   "metadata": {
    "deletable": true,
    "editable": true
   },
   "source": [
    "### Answer:"
   ]
  },
  {
   "cell_type": "code",
   "execution_count": null,
   "metadata": {
    "collapsed": false,
    "deletable": true,
    "editable": true
   },
   "outputs": [],
   "source": [
    "select * from amazon.metadata where solr_query = 'title:girls';"
   ]
  },
  {
   "cell_type": "markdown",
   "metadata": {
    "deletable": true,
    "editable": true
   },
   "source": [
    "Another variant (RESTful API): `http://<node0_public_IP>:8983/solr/amazon.metadata/select?q=title%3Agirls&wt=json&indent=true`"
   ]
  },
  {
   "cell_type": "markdown",
   "metadata": {
    "deletable": true,
    "editable": true
   },
   "source": [
    "#### Use your browser to take a look at node0's Solr Admin UI, `http://<node0_public_IP>:8983/solr`."
   ]
  },
  {
   "cell_type": "markdown",
   "metadata": {
    "deletable": true,
    "editable": true
   },
   "source": [
    "### Another follow-up question:\n",
    "* CQL solr_query is way more flexible than pure CQL query, but is there a catch? Compared to regular CQL query, what is the downside of using CQL solr_query from developer's perspective?"
   ]
  },
  {
   "cell_type": "markdown",
   "metadata": {
    "deletable": true,
    "editable": true
   },
   "source": [
    "### Answer:"
   ]
  },
  {
   "cell_type": "markdown",
   "metadata": {
    "deletable": true,
    "editable": true
   },
   "source": [
    "Since all query conditions will have to fit in solr_query, you can no longer effectively use prepared statement as you normally would be able to with pure CQL query."
   ]
  },
  {
   "cell_type": "markdown",
   "metadata": {
    "deletable": true,
    "editable": true
   },
   "source": [
    "# Question 2: What is the difference between main query (\"q\") and filter query (\"fq\") query parameter? Is there advantage of using one over the other? What is the best way to specify \"fq\" parameter if there are multiple AND conditions?"
   ]
  },
  {
   "cell_type": "markdown",
   "metadata": {
    "deletable": true,
    "editable": true
   },
   "source": [
    "### Answer:"
   ]
  },
  {
   "cell_type": "markdown",
   "metadata": {
    "deletable": true,
    "editable": true
   },
   "source": [
    "* \"fq\" won't influence document score while \"q\" will\n",
    "* however, \"fq\" could have a pretty major performance advantage over \"q\" for complex queries that could reuse part of the query conditions, because \"Each filter query is normally generated and cached independently in the filterCache, leading to improved request throughput for filters that are likely to be reused\"\n",
    "* You can use multiple \"fq\" clauses if there are multiple AND conditions, so each filter condition can be independently cached and reused"
   ]
  },
  {
   "cell_type": "markdown",
   "metadata": {
    "deletable": true,
    "editable": true
   },
   "source": [
    "# Exercise 3: Using CQL search for ”girls\" in the title. What categories contain results?\n"
   ]
  },
  {
   "cell_type": "markdown",
   "metadata": {
    "deletable": true,
    "editable": true
   },
   "source": [
    "### Answer:"
   ]
  },
  {
   "cell_type": "code",
   "execution_count": null,
   "metadata": {
    "collapsed": false,
    "deletable": true,
    "editable": true
   },
   "outputs": [],
   "source": [
    "select * from amazon.metadata where solr_query = '{\"q\":\"title:girls\", \"facet\":{\"field\":\"categories\"}}';"
   ]
  },
  {
   "cell_type": "markdown",
   "metadata": {
    "deletable": true,
    "editable": true
   },
   "source": [
    "# Exercise 4: Some of the categories in the facet output above contain zero result, how to eliminate those zero result categories in the output?"
   ]
  },
  {
   "cell_type": "markdown",
   "metadata": {
    "deletable": true,
    "editable": true
   },
   "source": [
    "### Answer:"
   ]
  },
  {
   "cell_type": "code",
   "execution_count": null,
   "metadata": {
    "collapsed": false,
    "deletable": true,
    "editable": true
   },
   "outputs": [],
   "source": [
    "select * from amazon.metadata where solr_query = '{\"q\":\"title:girls\", \"facet\":{\"field\":\"categories\", \"mincount\":1}}';"
   ]
  },
  {
   "cell_type": "markdown",
   "metadata": {
    "deletable": true,
    "editable": true
   },
   "source": [
    "# Exercise 5: Using CQL search for ”girls\" in the title, filtered by category books."
   ]
  },
  {
   "cell_type": "markdown",
   "metadata": {
    "deletable": true,
    "editable": true
   },
   "source": [
    "### Answer:"
   ]
  },
  {
   "cell_type": "code",
   "execution_count": null,
   "metadata": {
    "collapsed": false,
    "deletable": true,
    "editable": true
   },
   "outputs": [],
   "source": [
    "select * from amazon.metadata where solr_query = '{\"q\":\"title:girls\", \"fq\":\"categories:books\"}' limit 100;"
   ]
  },
  {
   "cell_type": "markdown",
   "metadata": {
    "deletable": true,
    "editable": true
   },
   "source": [
    "# Exercise 6: From the above answer, find out number of books in different price ranges, such as 0-2, 2-4, 4-6, 6-8, 8-10, 10-12 dollars\n",
    "### Hint: Use range facet, https://cwiki.apache.org/confluence/display/solr/Faceting#Faceting-RangeFaceting"
   ]
  },
  {
   "cell_type": "markdown",
   "metadata": {
    "deletable": true,
    "editable": true
   },
   "source": [
    "### Answer:"
   ]
  },
  {
   "cell_type": "code",
   "execution_count": null,
   "metadata": {
    "collapsed": false,
    "deletable": true,
    "editable": true
   },
   "outputs": [],
   "source": [
    "select * from amazon.metadata where solr_query = '{\"q\":\"title:girls\", \"fq\":\"categories:books\", \"facet\":{\"range\":\"price\", \"range.start\":0.0, \"range.end\":12.0, \"range.gap\":2.0}, \"useFieldCache\":true}' limit 100;"
   ]
  },
  {
   "cell_type": "markdown",
   "metadata": {
    "deletable": true,
    "editable": true
   },
   "source": [
    "# Exercise 7: Using CQL search for ”girls\" in the title, sort by title."
   ]
  },
  {
   "cell_type": "markdown",
   "metadata": {
    "deletable": true,
    "editable": true
   },
   "source": [
    "### Answer:"
   ]
  },
  {
   "cell_type": "code",
   "execution_count": null,
   "metadata": {
    "collapsed": false,
    "deletable": true,
    "editable": true
   },
   "outputs": [],
   "source": [
    "select * from amazon.metadata where solr_query = '{\"q\":\"title:girls\", \"sort\":\"title asc\"}';"
   ]
  },
  {
   "cell_type": "markdown",
   "metadata": {
    "deletable": true,
    "editable": true
   },
   "source": [
    "### Why using \"sort\":\"title asc\" doesn't work? How to fix it?\n",
    "### Answer: (Attempt #2)"
   ]
  },
  {
   "cell_type": "code",
   "execution_count": null,
   "metadata": {
    "collapsed": false,
    "deletable": true,
    "editable": true
   },
   "outputs": [],
   "source": [
    "select asin, categories, title from amazon.metadata where solr_query = '{\"q\":\"title:girls\", \"sort\":\"title asc\", \"useFieldCache\":true}' limit 100;"
   ]
  },
  {
   "cell_type": "markdown",
   "metadata": {
    "deletable": true,
    "editable": true
   },
   "source": [
    "### Now sort in the reverse order.\n",
    "### Answer:"
   ]
  },
  {
   "cell_type": "code",
   "execution_count": null,
   "metadata": {
    "collapsed": false,
    "deletable": true,
    "editable": true
   },
   "outputs": [],
   "source": [
    "select asin, categories, title from amazon.metadata where solr_query = '{\"q\":\"title:girls\", \"sort\":\"title desc\", \"useFieldCache\":true}' limit 100;"
   ]
  },
  {
   "cell_type": "markdown",
   "metadata": {
    "deletable": true,
    "editable": true
   },
   "source": [
    "### What happened? Why the 2nd output (reverse order) is not the exact opposite of the first output?"
   ]
  },
  {
   "cell_type": "markdown",
   "metadata": {
    "deletable": true,
    "editable": true
   },
   "source": [
    "### Answer:\n",
    "This is a known Solr limitation that also impacts DSE Search queries. Basically when you sort on a tokenized text field, you will not get the result sorted in the expected order."
   ]
  },
  {
   "cell_type": "markdown",
   "metadata": {
    "deletable": true,
    "editable": true
   },
   "source": [
    "### Class Discussion: How to make the order in the sort output deterministic?"
   ]
  },
  {
   "cell_type": "markdown",
   "metadata": {
    "deletable": true,
    "editable": true
   },
   "source": [
    "### Answer:"
   ]
  },
  {
   "cell_type": "markdown",
   "metadata": {
    "deletable": true,
    "editable": true
   },
   "source": [
    "* Change the schema to make the title as a non-tokenized text field, instead of tokenized text field.\n",
    "* Change the field `title` to string field, which is not tokenized.\n",
    "* Sort on a field that is meaningful for sorting, such as `asin`."
   ]
  },
  {
   "cell_type": "code",
   "execution_count": null,
   "metadata": {
    "collapsed": true,
    "deletable": true,
    "editable": true
   },
   "outputs": [],
   "source": []
  }
 ],
 "metadata": {
  "kernelspec": {
   "display_name": "CQL",
   "language": "CQL",
   "name": "cql"
  },
  "language_info": {
   "codemirror_mode": "sql",
   "file_extension": ".cql",
   "mimetype": "text/x-cassandra",
   "name": "CQL"
  }
 },
 "nbformat": 4,
 "nbformat_minor": 0
}
