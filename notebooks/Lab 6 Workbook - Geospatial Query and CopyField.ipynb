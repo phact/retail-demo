{
 "cells": [
  {
   "cell_type": "markdown",
   "metadata": {},
   "source": [
    "# Exercise 1: Enable search for amazon.clicks"
   ]
  },
  {
   "cell_type": "markdown",
   "metadata": {},
   "source": [
    "### Answer:"
   ]
  },
  {
   "cell_type": "raw",
   "metadata": {},
   "source": [
    "# dsetool create_core amazon.clicks generateResources=true reindex=true distributed=true deleteAll=true "
   ]
  },
  {
   "cell_type": "markdown",
   "metadata": {},
   "source": [
    "# Exercise 2: Download the schema for amazon.clicks, modify the schema enabling geospatial search for the location field\n"
   ]
  },
  {
   "cell_type": "markdown",
   "metadata": {},
   "source": [
    "### Answer:"
   ]
  },
  {
   "cell_type": "raw",
   "metadata": {},
   "source": [
    "1. Download the schema for amazon.clicks.\n",
    "\n",
    "# dsetool get_core_schema amazon.clicks > /tmp/clicks_schema.xml\n",
    "\n",
    "2. Edit clicks_schema.xml to something like the following:\n",
    "\n",
    "<?xml version=\"1.0\" encoding=\"UTF-8\" standalone=\"no\"?>\n",
    "<schema name=\"autoSolrSchema\" version=\"1.5\">\n",
    "  <types>\n",
    "    <fieldType name=\"location\" class=\"solr.LatLonType\" subFieldSuffix=\"_coordinate\"/>\n",
    "    <fieldType class=\"org.apache.solr.schema.TextField\" name=\"TextField\">\n",
    "      <analyzer>\n",
    "        <tokenizer class=\"solr.StandardTokenizerFactory\"/>\n",
    "        <filter class=\"solr.LowerCaseFilterFactory\"/>\n",
    "      </analyzer>\n",
    "    </fieldType>\n",
    "    <fieldType class=\"org.apache.solr.schema.TrieDoubleField\" name=\"TrieDoubleField\"/>\n",
    "    <fieldType class=\"org.apache.solr.schema.StrField\" name=\"StrField\"/>\n",
    "    <fieldType class=\"org.apache.solr.schema.UUIDField\" name=\"UUIDField\"/>\n",
    "  </types>\n",
    "  <fields>\n",
    "    <field indexed=\"true\" multiValued=\"false\" name=\"ip\" stored=\"true\" type=\"TextField\"/>\n",
    "    <field indexed=\"true\" multiValued=\"false\" name=\"postal_code\" stored=\"true\" type=\"TextField\"/>\n",
    "    <field indexed=\"true\" multiValued=\"false\" name=\"location\" stored=\"true\" type=\"location\"/>\n",
    "    <field indexed=\"true\" multiValued=\"false\" name=\"location_0_coordinate\" stored=\"true\" type=\"TrieDoubleField\"/>\n",
    "    <field indexed=\"true\" multiValued=\"false\" name=\"metro_code\" stored=\"true\" type=\"TextField\"/>\n",
    "    <field indexed=\"true\" multiValued=\"false\" name=\"region\" stored=\"true\" type=\"TextField\"/>\n",
    "    <field indexed=\"true\" multiValued=\"false\" name=\"country\" stored=\"true\" type=\"TextField\"/>\n",
    "    <field indexed=\"true\" multiValued=\"false\" name=\"city\" stored=\"true\" type=\"TextField\"/>\n",
    "    <field indexed=\"true\" multiValued=\"false\" name=\"asin\" stored=\"true\" type=\"StrField\"/>\n",
    "    <field indexed=\"true\" multiValued=\"false\" name=\"location_1_coordinate\" stored=\"true\" type=\"TrieDoubleField\"/>\n",
    "    <field indexed=\"true\" multiValued=\"false\" name=\"loc_id\" stored=\"true\" type=\"TextField\"/>\n",
    "    <field indexed=\"true\" multiValued=\"false\" name=\"area_code\" stored=\"true\" type=\"TextField\"/>\n",
    "    <field indexed=\"true\" multiValued=\"false\" name=\"user\" stored=\"true\" type=\"UUIDField\"/>\n",
    "    <field indexed=\"true\" multiValued=\"false\" name=\"seq\" stored=\"true\" type=\"UUIDField\"/>\n",
    "  </fields>\n",
    "  <uniqueKey>(asin,seq,user)</uniqueKey>\n",
    "</schema>\n",
    "\n",
    "3. Upload the schema and trigger reindex on amazon.clicks core."
   ]
  },
  {
   "cell_type": "markdown",
   "metadata": {},
   "source": [
    "### Question: how to change the schema to use dynamicField?"
   ]
  },
  {
   "cell_type": "raw",
   "metadata": {},
   "source": [
    "<?xml version=\"1.0\" encoding=\"UTF-8\" standalone=\"no\"?>\n",
    "<schema name=\"autoSolrSchema\" version=\"1.5\">\n",
    "  <types>\n",
    "    <fieldType name=\"location\" class=\"solr.LatLonType\" subFieldSuffix=\"_coordinate\"/>\n",
    "    <fieldType class=\"org.apache.solr.schema.TextField\" name=\"TextField\">\n",
    "      <analyzer>\n",
    "        <tokenizer class=\"solr.StandardTokenizerFactory\"/>\n",
    "        <filter class=\"solr.LowerCaseFilterFactory\"/>\n",
    "      </analyzer>\n",
    "    </fieldType>\n",
    "    <fieldType class=\"org.apache.solr.schema.TrieDoubleField\" name=\"TrieDoubleField\"/>\n",
    "    <fieldType class=\"org.apache.solr.schema.StrField\" name=\"StrField\"/>\n",
    "    <fieldType class=\"org.apache.solr.schema.UUIDField\" name=\"UUIDField\"/>\n",
    "  </types>\n",
    "  <fields>\n",
    "    <field indexed=\"true\" multiValued=\"false\" name=\"ip\" stored=\"true\" type=\"TextField\"/>\n",
    "    <field indexed=\"true\" multiValued=\"false\" name=\"postal_code\" stored=\"true\" type=\"TextField\"/>\n",
    "    <field indexed=\"true\" multiValued=\"false\" name=\"location\" stored=\"true\" type=\"location\"/>\n",
    "    <dynamicField indexed=\"true\" multiValued=\"false\" name=\"*_coordinate\" stored=\"true\" type=\"TrieDoubleField\"/>\n",
    "    <field indexed=\"true\" multiValued=\"false\" name=\"metro_code\" stored=\"true\" type=\"TextField\"/>\n",
    "    <field indexed=\"true\" multiValued=\"false\" name=\"region\" stored=\"true\" type=\"TextField\"/>\n",
    "    <field indexed=\"true\" multiValued=\"false\" name=\"country\" stored=\"true\" type=\"TextField\"/>\n",
    "    <field indexed=\"true\" multiValued=\"false\" name=\"city\" stored=\"true\" type=\"TextField\"/>\n",
    "    <field indexed=\"true\" multiValued=\"false\" name=\"asin\" stored=\"true\" type=\"StrField\"/>\n",
    "    <field indexed=\"true\" multiValued=\"false\" name=\"loc_id\" stored=\"true\" type=\"TextField\"/>\n",
    "    <field indexed=\"true\" multiValued=\"false\" name=\"area_code\" stored=\"true\" type=\"TextField\"/>\n",
    "    <field indexed=\"true\" multiValued=\"false\" name=\"user\" stored=\"true\" type=\"UUIDField\"/>\n",
    "    <field indexed=\"true\" multiValued=\"false\" name=\"seq\" stored=\"true\" type=\"UUIDField\"/>\n",
    "  </fields>\n",
    "  <uniqueKey>(asin,seq,user)</uniqueKey>\n",
    "</schema>"
   ]
  },
  {
   "cell_type": "markdown",
   "metadata": {},
   "source": [
    "# Exercise 3: Find customers events within a 3km radius of \"37.7484,-122.4156\", sort by distance."
   ]
  },
  {
   "cell_type": "markdown",
   "metadata": {},
   "source": [
    "### Hints: Use geodist() function to \"sort by distance\" properly. Also since the returned result set is huge, you will want to add \"LIMIT 5000\" to your query."
   ]
  },
  {
   "cell_type": "markdown",
   "metadata": {},
   "source": [
    "### Answer:"
   ]
  },
  {
   "cell_type": "code",
   "execution_count": null,
   "metadata": {},
   "outputs": [],
   "source": [
    "SELECT * FROM amazon.clicks WHERE solr_query='{\"q\":\"asin:*\", \"fq\":\"{!geofilt pt=\\\"37.7484,-122.4156\\\" sfield=location d=3}\", \"sort\":\"geodist(location, 37.7484, -122.4156) asc\"}' LIMIT 5000;"
   ]
  },
  {
   "cell_type": "markdown",
   "metadata": {},
   "source": [
    "# Challenge 4: It is really hard to scroll through 10K+ rows in the above output, however, you may have noticed a lot of the rows (thousands of them) are sharing the same coordinates. Can you facet the above output and find out exactly how many locations are reflected in the above output, and for each unique location, how many rows are associated with them? Once figuring out the answer to this challenge, try 4km radius and 5km radius and see how the result changes.\n",
    "### Hint: modify the schema and leverage copyField."
   ]
  },
  {
   "cell_type": "markdown",
   "metadata": {},
   "source": [
    "### Answer:"
   ]
  },
  {
   "cell_type": "markdown",
   "metadata": {},
   "source": [
    "* Edit clicks_schema.xml and add a StrField called \"location_str\" like the following:\n",
    "\n",
    "```<field indexed=\"true\" multiValued=\"false\" name=\"location_str\" stored=\"false\" type=\"StrField\" docValues=\"true\"/>```\n",
    "\n",
    "* Add a copyField statement at the end of the schema.xml like the following:\n",
    "\n",
    "```<copyField source=\"location\" dest=\"location_str\"/>```\n",
    "\n",
    "* Upload the schema.xml and reindex."
   ]
  },
  {
   "cell_type": "code",
   "execution_count": null,
   "metadata": {},
   "outputs": [],
   "source": [
    "SELECT * FROM amazon.clicks WHERE solr_query='{\"q\":\"asin:*\", \"fq\":\"{!geofilt pt=\\\"37.7484,-122.4156\\\" sfield=location d=3}\", \"facet\":{\"field\":\"location_str\", \"mincount\":1}}';"
   ]
  },
  {
   "cell_type": "code",
   "execution_count": null,
   "metadata": {
    "collapsed": true
   },
   "outputs": [],
   "source": []
  }
 ],
 "metadata": {
  "kernelspec": {
   "display_name": "CQL",
   "language": "CQL",
   "name": "cql"
  },
  "language_info": {
   "codemirror_mode": "sql",
   "file_extension": ".cql",
   "mimetype": "text/x-cassandra",
   "name": "CQL"
  }
 },
 "nbformat": 4,
 "nbformat_minor": 1
}
